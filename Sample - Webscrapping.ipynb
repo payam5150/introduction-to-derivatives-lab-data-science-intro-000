{
 "cells": [
  {
   "cell_type": "code",
   "execution_count": 11,
   "metadata": {},
   "outputs": [],
   "source": [
    "import pandas as pd\n",
    "import requests\n",
    "from bs4 import BeautifulSoup\n",
    "import seaborn as sns\n",
    "import matplotlib.pyplot as plt\n",
    "%matplotlib inline"
   ]
  },
  {
   "cell_type": "code",
   "execution_count": 12,
   "metadata": {},
   "outputs": [],
   "source": [
    "page = requests.get('https://forecast.weather.gov/MapClick.php?lat=32.96119330000005&lon=-96.78433859999996#.Xp93HGhKhPY')\n",
    "soup = BeautifulSoup(page.content, 'html.parser')\n",
    "week = soup.find(id='seven-day-forecast-container')\n",
    "items = week.find_all(class_=\"tombstone-container\")\n",
    "#print(items[0])"
   ]
  },
  {
   "cell_type": "code",
   "execution_count": 13,
   "metadata": {},
   "outputs": [
    {
     "name": "stdout",
     "output_type": "stream",
     "text": [
      "Tonight\n",
      "Clear\n",
      "Low: 57 °F\n"
     ]
    }
   ],
   "source": [
    "print(items[0].find(class_='period-name').get_text())\n",
    "print(items[0].find(class_='short-desc').get_text())\n",
    "print(items[0].find(class_='temp').get_text())"
   ]
  },
  {
   "cell_type": "code",
   "execution_count": 14,
   "metadata": {},
   "outputs": [],
   "source": [
    "period_names = [item.find(class_='period-name').get_text() for item in items]\n",
    "short_description = [item.find(class_='short-desc').get_text() for item in items]\n",
    "temperatures = [item.find(class_='temp').get_text() for item in items]"
   ]
  },
  {
   "cell_type": "code",
   "execution_count": 15,
   "metadata": {},
   "outputs": [
    {
     "name": "stdout",
     "output_type": "stream",
     "text": [
      "['Tonight', 'Saturday', 'SaturdayNight', 'Sunday', 'SundayNight', 'Monday', 'MondayNight', 'Tuesday', 'TuesdayNight']\n",
      "['Clear', 'Mostly Sunny', 'Mostly Clear', 'Sunny', 'Partly Cloudy', 'Partly Sunny', 'Mostly Cloudy', 'Slight ChanceT-storms', 'ChanceT-storms']\n",
      "['Low: 57 °F', 'High: 76 °F', 'Low: 54 °F', 'High: 80 °F', 'Low: 60 °F', 'High: 82 °F', 'Low: 67 °F', 'High: 88 °F', 'Low: 65 °F']\n"
     ]
    }
   ],
   "source": [
    "print(period_names)\n",
    "print(short_description)\n",
    "print(temperatures)"
   ]
  },
  {
   "cell_type": "code",
   "execution_count": 16,
   "metadata": {},
   "outputs": [
    {
     "name": "stdout",
     "output_type": "stream",
     "text": [
      "          period      short_description temperatures\n",
      "0        Tonight                  Clear   Low: 57 °F\n",
      "1       Saturday           Mostly Sunny  High: 76 °F\n",
      "2  SaturdayNight           Mostly Clear   Low: 54 °F\n",
      "3         Sunday                  Sunny  High: 80 °F\n",
      "4    SundayNight          Partly Cloudy   Low: 60 °F\n",
      "5         Monday           Partly Sunny  High: 82 °F\n",
      "6    MondayNight          Mostly Cloudy   Low: 67 °F\n",
      "7        Tuesday  Slight ChanceT-storms  High: 88 °F\n",
      "8   TuesdayNight         ChanceT-storms   Low: 65 °F\n"
     ]
    }
   ],
   "source": [
    "weather_stuff = pd.DataFrame(\n",
    "       {'period': period_names,\n",
    "       'short_description': short_description,\n",
    "       'temperatures': temperatures,\n",
    "       })\n",
    "print(weather_stuff)"
   ]
  },
  {
   "cell_type": "code",
   "execution_count": 28,
   "metadata": {},
   "outputs": [],
   "source": [
    "tips = sns.load_dataset('tips')\n"
   ]
  },
  {
   "cell_type": "code",
   "execution_count": 29,
   "metadata": {},
   "outputs": [
    {
     "data": {
      "text/plain": [
       "<matplotlib.axes._subplots.AxesSubplot at 0x2a616058388>"
      ]
     },
     "execution_count": 29,
     "metadata": {},
     "output_type": "execute_result"
    },
    {
     "data": {
      "image/png": "[encoded data removed]",
      "text/plain": [
       "<Figure size 432x288 with 1 Axes>"
      ]
     },
     "metadata": {
      "needs_background": "light"
     },
     "output_type": "display_data"
    }
   ],
   "source": [
    "sns.barplot(x='day', y='tip' , data=tips)\n",
    "            "
   ]
  }
 ],
 "metadata": {
  "kernelspec": {
   "display_name": "Python 3",
   "language": "python",
   "name": "python3"
  },
  "language_info": {
   "codemirror_mode": {
    "name": "ipython",
    "version": 3
   },
   "file_extension": ".py",
   "mimetype": "text/x-python",
   "name": "python",
   "nbconvert_exporter": "python",
   "pygments_lexer": "ipython3",
   "version": "3.7.4"
  }
 },
 "nbformat": 4,
 "nbformat_minor": 2
}
